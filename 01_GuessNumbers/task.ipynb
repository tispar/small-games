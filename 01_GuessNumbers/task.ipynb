{
 "cells": [
  {
   "cell_type": "markdown",
   "metadata": {},
   "source": [
    "# Number guessing game\n",
    "\n",
    "## Topics in this exercise\n",
    "- if-else-statements\n",
    "- for-loops\n",
    "- string-formatting \n",
    "\n",
    "## Task\n",
    "Write a small game which asks the user his name and then let's him/her guess a randomized number between 1 and 20.\n",
    "\n",
    "The user get's 6 tries to guess the right number.\n",
    "\n",
    "If the user guesses the right number, return a string with the number and the amount of guesses used.\n",
    "\n",
    "If the user did not guess the right number, give the user a hint if his guess was too high or too low.\n",
    "\n",
    "When the user had 6 unsuccessful guesses, let the program tell him the correct number.\n",
    "\n",
    "Don't worry about invalid inputs, we assume only smart people play this game :)\n",
    "\n",
    "## Hints\n",
    "You will need the module `random`"
   ]
  }
 ],
 "metadata": {
  "language_info": {
   "name": "python"
  },
  "orig_nbformat": 4
 },
 "nbformat": 4,
 "nbformat_minor": 2
}
