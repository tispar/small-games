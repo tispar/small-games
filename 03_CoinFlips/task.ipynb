{
 "cells": [
  {
   "cell_type": "markdown",
   "metadata": {},
   "source": [
    "# Coin Flip\n",
    "\n",
    "## Topics in this exercise\n",
    "- while-loops\n",
    "- string-formatting \n",
    "\n",
    "## Task\n",
    "Let's create another little guessing game.\n",
    "\n",
    "This time the program tosses a coin 1000times and lets the player guess how often heads will come up.\n",
    "\n",
    "We won't compare the guess of the player to the result, so the player has to memorize his guess for a short amount of time.\n",
    "\n",
    "To make it a little more interesting print out some interim-standings (e.g. after 100, 500 & 900 coin tosses)\n",
    "\n",
    "\n",
    "## Hints\n",
    "The randomint - function is needed in this program"
   ]
  }
 ],
 "metadata": {
  "interpreter": {
   "hash": "ab3d85a18739f6fff6a9c8c504adc2ff9340867b576dede986e2ee74c099e4e5"
  },
  "kernelspec": {
   "display_name": "Python 3.9.12 ('nf_base')",
   "language": "python",
   "name": "python3"
  },
  "language_info": {
   "codemirror_mode": {
    "name": "ipython",
    "version": 3
   },
   "file_extension": ".py",
   "mimetype": "text/x-python",
   "name": "python",
   "nbconvert_exporter": "python",
   "pygments_lexer": "ipython3",
   "version": "3.9.12"
  },
  "orig_nbformat": 4
 },
 "nbformat": 4,
 "nbformat_minor": 2
}
