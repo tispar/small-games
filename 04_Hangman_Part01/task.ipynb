{
 "cells": [
  {
   "cell_type": "markdown",
   "metadata": {},
   "source": [
    "# Dragon realm\n",
    "\n",
    "## Topics in this exercise\n",
    "- functions\n",
    "- while-loops\n",
    "- string-formatting \n",
    "- use of time-function\n",
    "\n",
    "## Task\n",
    "You are in land full of dragons. Some of them friendly some rather not. The player stands in front of two caves. In one cave houses a nice dragon eager to share his treasure, the other one contains a wild beast who will eat the player on sight. The player has to choose one of the caves and live (or die) with the consequences.\n",
    "\n",
    "Create the following functions:\n",
    "-displayIntro() Displays a flavor text to describe the situation to the player.\n",
    "-chooseCave() asks the player for '1' or '2' as input. if the player isn't smart enough to provide one of these inputs, just ask again.\n",
    "-checkCave() Determines with randint if which of the caves is the \"good\" one, compares it with the player's choice and gives an output message\n",
    "\n",
    "The gameplay loop and some texts are already provided\n",
    "\n",
    "## Hints\n",
    "The time function is only used to build suspense.\n",
    "\n",
    "You can use `''' text '''` to print out a multi line string."
   ]
  },
  {
   "cell_type": "code",
   "execution_count": null,
   "metadata": {},
   "outputs": [],
   "source": [
    "print('''This is an example text\n",
    "which covers more than one line.\n",
    "Even 3 to be exact''')"
   ]
  }
 ],
 "metadata": {
  "interpreter": {
   "hash": "ab3d85a18739f6fff6a9c8c504adc2ff9340867b576dede986e2ee74c099e4e5"
  },
  "kernelspec": {
   "display_name": "Python 3.9.12 ('nf_base')",
   "language": "python",
   "name": "python3"
  },
  "language_info": {
   "codemirror_mode": {
    "name": "ipython",
    "version": 3
   },
   "file_extension": ".py",
   "mimetype": "text/x-python",
   "name": "python",
   "nbconvert_exporter": "python",
   "pygments_lexer": "ipython3",
   "version": "3.9.12"
  },
  "orig_nbformat": 4
 },
 "nbformat": 4,
 "nbformat_minor": 2
}
